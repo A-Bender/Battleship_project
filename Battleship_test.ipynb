{
 "cells": [
  {
   "cell_type": "markdown",
   "id": "a2a423c2-b36e-4fb3-9880-af7d168c0a49",
   "metadata": {},
   "source": [
    "# Battleship!"
   ]
  },
  {
   "cell_type": "markdown",
   "id": "b31a7f09-830b-48bc-aa62-c77684be74c2",
   "metadata": {
    "jp-MarkdownHeadingCollapsed": true
   },
   "source": [
    "### Functions"
   ]
  },
  {
   "cell_type": "raw",
   "id": "23216ae3-cc3a-4078-b256-c47670301524",
   "metadata": {},
   "source": [
    "# What functions do we need?\n",
    "\n",
    "# Display board (grid) -\n",
    "\n",
    "    #one “home” map for player ships and\n",
    "\n",
    "    #one map for targeting where the player shoots\n",
    "\n",
    "    #machine will need these maps too\n",
    "\n",
    "    #map size: 1-10, A-J\n",
    "\n",
    "#input player name - let player choose name\n",
    "\n",
    "    #perhaps this is a nice to have.\n",
    "\n",
    "#choose turn - who goes first\n",
    "\n",
    "    #random?\n",
    "\n",
    "#place ships - function for players to place ships on own grid\n",
    "\n",
    "   #prompt player to place ships on grid\n",
    "\n",
    "    #we need 4 ships, sized 2, 3, 4 and 5 hexes\n",
    "\n",
    "    #function to rotate them?\n",
    "\n",
    "#player ship - function for player ship\n",
    "\n",
    "#start game - input yes/no to start game\n",
    "\n",
    "#shoot - player input marking where player shoots\n",
    "\n",
    "   #prompt asking player to shoot\n",
    "\n",
    "#check hit or miss - function to check if the shot hits or misses\n",
    "\n",
    "   # prompt “HIT!” or “MISS!”\n",
    "\n",
    "#check win - if all ships have been hit\n",
    "\n",
    "   # if false then prompt machine for their turn\n",
    "\n",
    "    #if true then prompt if player or machine wins\n",
    "\n",
    "#space check - check which squares have been marked\n",
    "\n",
    "#full board check"
   ]
  },
  {
   "cell_type": "markdown",
   "id": "d310ac68-2406-4d0c-bd50-fb96e9ad8295",
   "metadata": {},
   "source": [
    "# Lets get started"
   ]
  },
  {
   "cell_type": "code",
   "execution_count": null,
   "id": "346e6049-5b3a-48e3-827b-dc902d70c9e1",
   "metadata": {},
   "outputs": [],
   "source": []
  },
  {
   "cell_type": "code",
   "execution_count": null,
   "id": "fe757e4d-8e6d-4b2b-b631-5113b4877b18",
   "metadata": {},
   "outputs": [],
   "source": []
  },
  {
   "cell_type": "code",
   "execution_count": null,
   "id": "27963b6f-d523-4129-ad57-553ffd4b7734",
   "metadata": {},
   "outputs": [],
   "source": [
    "\n",
    "\n",
    "\n"
   ]
  },
  {
   "cell_type": "code",
   "execution_count": null,
   "id": "9bec0d9b-2f34-4adc-88f1-67e46185591a",
   "metadata": {},
   "outputs": [],
   "source": []
  },
  {
   "cell_type": "code",
   "execution_count": null,
   "id": "df9e6eea-0809-43a4-a73c-843cb4db4688",
   "metadata": {},
   "outputs": [],
   "source": []
  },
  {
   "cell_type": "code",
   "execution_count": null,
   "id": "a153f74c-454a-4b4a-9e6a-cabc9d3eaef7",
   "metadata": {},
   "outputs": [],
   "source": []
  },
  {
   "cell_type": "code",
   "execution_count": null,
   "id": "994df3e3-ba49-49a4-a822-36a8590453ff",
   "metadata": {},
   "outputs": [],
   "source": []
  },
  {
   "cell_type": "code",
   "execution_count": null,
   "id": "d839bded-a654-4db9-9752-c55fca1f6b1f",
   "metadata": {},
   "outputs": [],
   "source": []
  },
  {
   "cell_type": "code",
   "execution_count": null,
   "id": "41289220-a76a-4c88-b6b5-26ed1937a1a1",
   "metadata": {},
   "outputs": [],
   "source": []
  },
  {
   "cell_type": "code",
   "execution_count": null,
   "id": "d46648a7-cb04-4309-8d46-c0260d8683df",
   "metadata": {},
   "outputs": [],
   "source": []
  },
  {
   "cell_type": "code",
   "execution_count": null,
   "id": "c7813a65-05bf-438c-ba65-ecef658dcd8c",
   "metadata": {},
   "outputs": [],
   "source": []
  },
  {
   "cell_type": "code",
   "execution_count": null,
   "id": "fadc25e6-7cee-4868-9cd9-b002cc8fe280",
   "metadata": {},
   "outputs": [],
   "source": []
  },
  {
   "cell_type": "code",
   "execution_count": null,
   "id": "73188894-99f9-40ed-b2f6-2728020d9c94",
   "metadata": {},
   "outputs": [],
   "source": []
  },
  {
   "cell_type": "code",
   "execution_count": null,
   "id": "9b1aa837-d5a2-48a3-9ef4-10f7c98ade2b",
   "metadata": {},
   "outputs": [],
   "source": []
  },
  {
   "cell_type": "code",
   "execution_count": null,
   "id": "eae8cdb5-4836-41fe-b575-6e9674caa07b",
   "metadata": {},
   "outputs": [],
   "source": []
  },
  {
   "cell_type": "code",
   "execution_count": null,
   "id": "196b352a-6bd6-4478-a874-6af901e07a5d",
   "metadata": {},
   "outputs": [],
   "source": []
  }
 ],
 "metadata": {
  "kernelspec": {
   "display_name": "Python 3 (ipykernel)",
   "language": "python",
   "name": "python3"
  },
  "language_info": {
   "codemirror_mode": {
    "name": "ipython",
    "version": 3
   },
   "file_extension": ".py",
   "mimetype": "text/x-python",
   "name": "python",
   "nbconvert_exporter": "python",
   "pygments_lexer": "ipython3",
   "version": "3.12.4"
  }
 },
 "nbformat": 4,
 "nbformat_minor": 5
}
