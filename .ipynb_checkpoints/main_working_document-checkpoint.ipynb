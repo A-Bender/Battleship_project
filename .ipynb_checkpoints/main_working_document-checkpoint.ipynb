{
 "cells": [
  {
   "cell_type": "markdown",
   "id": "53667ad3-95dc-4a00-9733-be5be7f4d9aa",
   "metadata": {},
   "source": [
    "# Battleship Game\n",
    "functions list:  <br>\n",
    "display_home_grid(home_map):grid where the ships are"
   ]
  },
  {
   "cell_type": "code",
   "execution_count": null,
   "id": "3c695ec6-d124-420d-9a3e-2af3b6a7e9f3",
   "metadata": {},
   "outputs": [],
   "source": []
  },
  {
   "cell_type": "code",
   "execution_count": null,
   "id": "49102f13-e53b-4651-8d1b-c66c336b330b",
   "metadata": {},
   "outputs": [],
   "source": []
  },
  {
   "cell_type": "code",
   "execution_count": null,
   "id": "bc2c1f77-f61f-4d33-b4c2-b156fab8fa5d",
   "metadata": {},
   "outputs": [],
   "source": []
  },
  {
   "cell_type": "code",
   "execution_count": null,
   "id": "329fcd3b-3390-4a61-a7da-8ce54cbbec2d",
   "metadata": {},
   "outputs": [],
   "source": []
  },
  {
   "cell_type": "code",
   "execution_count": null,
   "id": "6c4c2a30-86dc-4cfd-8da7-6519e5ec9904",
   "metadata": {},
   "outputs": [],
   "source": []
  },
  {
   "cell_type": "code",
   "execution_count": null,
   "id": "2640d715-77d6-459e-8364-2da785c105ed",
   "metadata": {},
   "outputs": [],
   "source": []
  },
  {
   "cell_type": "code",
   "execution_count": null,
   "id": "f998e065-ce81-4232-9ca1-8f503e17191a",
   "metadata": {},
   "outputs": [],
   "source": []
  },
  {
   "cell_type": "code",
   "execution_count": 116,
   "id": "29552e2f-4a20-4f50-a81f-b6b49563a382",
   "metadata": {
    "scrolled": true
   },
   "outputs": [
    {
     "data": {
      "text/plain": [
       "[[1, 2, 3, 4, 5, 6, 7, 8, 9, 10],\n",
       " [11, 12, 13, 14, 15, 16, 17, 18, 19, 20],\n",
       " [21, 22, 23, 24, 25, 26, 27, 28, 29, 30],\n",
       " [31, 32, 33, 34, 35, 36, 37, 38, 39, 40],\n",
       " [41, 42, 43, 44, 45, 46, 47, 48, 49, 50],\n",
       " [51, 52, 53, 54, 55, 56, 57, 58, 59, 60],\n",
       " [61, 62, 63, 64, 65, 66, 67, 68, 69, 70],\n",
       " [71, 72, 73, 74, 75, 76, 77, 78, 79, 80],\n",
       " [81, 82, 83, 84, 85, 86, 87, 88, 89, 90],\n",
       " [91, 92, 93, 94, 95, 96, 97, 98, 99, 100]]"
      ]
     },
     "execution_count": 116,
     "metadata": {},
     "output_type": "execute_result"
    }
   ],
   "source": [
    "home_map =[[(i * 10) + j + 1 for j in range(10)] for i in range(10)]\n",
    "\n",
    "home_map"
   ]
  },
  {
   "cell_type": "code",
   "execution_count": 71,
   "id": "7a5d625c-184b-4906-a496-89cffe5df32f",
   "metadata": {},
   "outputs": [
    {
     "data": {
      "text/plain": [
       "[11, 12, 13, 14, 15, 16, 17, 18, 19, 20]"
      ]
     },
     "execution_count": 71,
     "metadata": {},
     "output_type": "execute_result"
    }
   ],
   "source": [
    "home_map[1]\n",
    "    "
   ]
  },
  {
   "cell_type": "code",
   "execution_count": null,
   "id": "cc2b2b73-1fd7-4346-9742-de0381be1dcc",
   "metadata": {},
   "outputs": [],
   "source": []
  },
  {
   "cell_type": "code",
   "execution_count": 207,
   "id": "829e8d93-5067-44a1-9db9-501525ff4639",
   "metadata": {},
   "outputs": [],
   "source": [
    "def display_home_grid(home_map):\n",
    "    row_list = range(1,11)\n",
    "    column_lst = range(1,11)\n",
    "    print(\"   A    B    C    D    E    F    G    H    I    J\")\n",
    "    print(\"-----------------------------------------------\")\n",
    "    for row in row_lst:\n",
    "        print(f\" {row} | {home_map[row-1][0]} | {home_map[row-1][1]} | {home_map[row-1][2]} | {home_map[row-1][3]} | {home_map[row-1][4]} | {home_map[row-1][5]} | {home_map[row-1][6]} | {home_map[row-1][7]} | {home_map[row-1][8]} | {home_map[row-1][9]} |\")\n",
    "        print(\"-----------------------------------------------\")"
   ]
  },
  {
   "cell_type": "code",
   "execution_count": 209,
   "id": "af8094ab-9cd1-4f57-902d-99247344a2b3",
   "metadata": {},
   "outputs": [
    {
     "name": "stdout",
     "output_type": "stream",
     "text": [
      "   A    B    C    D    E    F    G    H    I    J\n",
      "-----------------------------------------------\n",
      " 1 | 1 | 2 | 3 | 4 | 5 | 6 | 7 | 8 | 9 | 10 |\n",
      "-----------------------------------------------\n",
      " 2 | 11 | 12 | 13 | 14 | 15 | 16 | 17 | 18 | 19 | 20 |\n",
      "-----------------------------------------------\n",
      " 3 | 21 | 22 | 23 | 24 | 25 | 26 | 27 | 28 | 29 | 30 |\n",
      "-----------------------------------------------\n",
      " 4 | 31 | 32 | 33 | 34 | 35 | 36 | 37 | 38 | 39 | 40 |\n",
      "-----------------------------------------------\n",
      " 5 | 41 | 42 | 43 | 44 | 45 | 46 | 47 | 48 | 49 | 50 |\n",
      "-----------------------------------------------\n",
      " 6 | 51 | 52 | 53 | 54 | 55 | 56 | 57 | 58 | 59 | 60 |\n",
      "-----------------------------------------------\n",
      " 7 | 61 | 62 | 63 | 64 | 65 | 66 | 67 | 68 | 69 | 70 |\n",
      "-----------------------------------------------\n",
      " 8 | 71 | 72 | 73 | 74 | 75 | 76 | 77 | 78 | 79 | 80 |\n",
      "-----------------------------------------------\n",
      " 9 | 81 | 82 | 83 | 84 | 85 | 86 | 87 | 88 | 89 | 90 |\n",
      "-----------------------------------------------\n",
      " 10 | 91 | 92 | 93 | 94 | 95 | 96 | 97 | 98 | 99 | 100 |\n",
      "-----------------------------------------------\n"
     ]
    }
   ],
   "source": [
    "display_home_grid(home_map)"
   ]
  },
  {
   "cell_type": "code",
   "execution_count": null,
   "id": "83955bae-f45b-4b04-aa3e-c1a28583c253",
   "metadata": {},
   "outputs": [],
   "source": []
  },
  {
   "cell_type": "code",
   "execution_count": 253,
   "id": "8b75c929-90ea-46c4-9ca5-b10981f0c586",
   "metadata": {},
   "outputs": [],
   "source": [
    "def player_name_1():\n",
    "    name_player_1 = input(\"What is your name?\")\n",
    "    return name_player_1"
   ]
  },
  {
   "cell_type": "code",
   "execution_count": 255,
   "id": "f1542686-52bc-4149-9ecc-c258f97085e8",
   "metadata": {},
   "outputs": [
    {
     "name": "stdin",
     "output_type": "stream",
     "text": [
      "What is your name? Alex\n"
     ]
    }
   ],
   "source": [
    "player_name1()"
   ]
  },
  {
   "cell_type": "code",
   "execution_count": 257,
   "id": "0eeb99ba-5771-4c55-8754-4fd7d3fdb405",
   "metadata": {},
   "outputs": [],
   "source": [
    "def player_name_2():\n",
    "    name_player_2 = input(\"What is your name?\")\n",
    "    return name_player_2\n"
   ]
  },
  {
   "cell_type": "code",
   "execution_count": 259,
   "id": "d458e4e8-2522-4843-a3b3-10d3c445b836",
   "metadata": {},
   "outputs": [
    {
     "name": "stdin",
     "output_type": "stream",
     "text": [
      "What is your name? Tian\n"
     ]
    }
   ],
   "source": [
    "player_name2()"
   ]
  },
  {
   "cell_type": "code",
   "execution_count": 271,
   "id": "39cacd84-3764-4732-9a5a-7d252d897ada",
   "metadata": {},
   "outputs": [],
   "source": [
    "import random\n",
    "\n",
    "def choose_turn():\n",
    "    \"\"\"function for deciding if player one or two goes first\"\"\"\n",
    "    if random.randint(0, 1) == 0:\n",
    "        return name_player_1()\n",
    "    else:\n",
    "        return name_player_2()"
   ]
  },
  {
   "cell_type": "code",
   "execution_count": 273,
   "id": "c1e18c16-2c83-491a-bcea-4bc4777cf095",
   "metadata": {},
   "outputs": [
    {
     "ename": "TypeError",
     "evalue": "'str' object is not callable",
     "output_type": "error",
     "traceback": [
      "\u001b[1;31m---------------------------------------------------------------------------\u001b[0m",
      "\u001b[1;31mTypeError\u001b[0m                                 Traceback (most recent call last)",
      "Cell \u001b[1;32mIn[273], line 2\u001b[0m\n\u001b[0;32m      1\u001b[0m \u001b[38;5;28;01mfor\u001b[39;00m i \u001b[38;5;129;01min\u001b[39;00m \u001b[38;5;28mrange\u001b[39m(\u001b[38;5;241m10\u001b[39m):\n\u001b[1;32m----> 2\u001b[0m     \u001b[38;5;28mprint\u001b[39m(choose_turn())\n",
      "Cell \u001b[1;32mIn[271], line 8\u001b[0m, in \u001b[0;36mchoose_turn\u001b[1;34m()\u001b[0m\n\u001b[0;32m      6\u001b[0m     \u001b[38;5;28;01mreturn\u001b[39;00m name_player_1()\n\u001b[0;32m      7\u001b[0m \u001b[38;5;28;01melse\u001b[39;00m:\n\u001b[1;32m----> 8\u001b[0m     \u001b[38;5;28;01mreturn\u001b[39;00m name_player_2()\n",
      "\u001b[1;31mTypeError\u001b[0m: 'str' object is not callable"
     ]
    }
   ],
   "source": [
    "for i in range(10):\n",
    "    print(choose_turn())"
   ]
  },
  {
   "cell_type": "code",
   "execution_count": null,
   "id": "46db8a6d-8517-454a-8381-7bc8917b08c5",
   "metadata": {},
   "outputs": [],
   "source": []
  },
  {
   "cell_type": "code",
   "execution_count": null,
   "id": "1ecf1329-a758-4d3c-8626-195c5ee47796",
   "metadata": {},
   "outputs": [],
   "source": []
  },
  {
   "cell_type": "code",
   "execution_count": null,
   "id": "960c2d41-1b75-4461-aa3b-135139f635a4",
   "metadata": {},
   "outputs": [],
   "source": []
  },
  {
   "cell_type": "code",
   "execution_count": null,
   "id": "d8986c3e-3f61-4b81-acc8-cbffdd3d0cb7",
   "metadata": {},
   "outputs": [],
   "source": []
  },
  {
   "cell_type": "code",
   "execution_count": null,
   "id": "b0115795-0e2d-42fa-b6f8-358084341554",
   "metadata": {},
   "outputs": [],
   "source": []
  },
  {
   "cell_type": "code",
   "execution_count": null,
   "id": "f0466515-04ef-49f0-b748-35435922b74a",
   "metadata": {},
   "outputs": [],
   "source": []
  },
  {
   "cell_type": "code",
   "execution_count": null,
   "id": "94ec6030-b8a8-4039-9858-1e32d52c6eeb",
   "metadata": {},
   "outputs": [],
   "source": []
  }
 ],
 "metadata": {
  "kernelspec": {
   "display_name": "Python 3 (ipykernel)",
   "language": "python",
   "name": "python3"
  },
  "language_info": {
   "codemirror_mode": {
    "name": "ipython",
    "version": 3
   },
   "file_extension": ".py",
   "mimetype": "text/x-python",
   "name": "python",
   "nbconvert_exporter": "python",
   "pygments_lexer": "ipython3",
   "version": "3.12.4"
  }
 },
 "nbformat": 4,
 "nbformat_minor": 5
}
