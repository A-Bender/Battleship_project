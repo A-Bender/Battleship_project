{
 "cells": [
  {
   "cell_type": "markdown",
   "id": "53667ad3-95dc-4a00-9733-be5be7f4d9aa",
   "metadata": {},
   "source": [
    "# Battleship Game\n",
    "functions list:  <br>\n",
    "display_home_grid(home_map):grid where the ships are"
   ]
  },
  {
   "cell_type": "code",
   "execution_count": null,
   "id": "29552e2f-4a20-4f50-a81f-b6b49563a382",
   "metadata": {},
   "outputs": [],
   "source": [
    "home_map = [​\n",
    "  \n",
    "1\n",
    "11\n",
    "21\n",
    "31\n",
    "41\n",
    "51\n",
    "61\n",
    "71\n",
    "81\n",
    "91\n",
    "​\n",
    "  \n",
    "2\n",
    "12\n",
    "22\n",
    "32\n",
    "42\n",
    "52\n",
    "62\n",
    "72\n",
    "82\n",
    "92\n",
    "​\n",
    "  \n",
    "3\n",
    "13\n",
    "23\n",
    "33\n",
    "43\n",
    "53\n",
    "63\n",
    "73\n",
    "83\n",
    "93\n",
    "​\n",
    "  \n",
    "4\n",
    "14\n",
    "24\n",
    "34\n",
    "44\n",
    "54\n",
    "64\n",
    "74\n",
    "84\n",
    "94\n",
    "​\n",
    "  \n",
    "5\n",
    "15\n",
    "25\n",
    "35\n",
    "45\n",
    "55\n",
    "65\n",
    "75\n",
    "85\n",
    "95\n",
    "​\n",
    "  \n",
    "6\n",
    "16\n",
    "26\n",
    "36\n",
    "46\n",
    "56\n",
    "66\n",
    "76\n",
    "86\n",
    "96\n",
    "​\n",
    "  \n",
    "7\n",
    "17\n",
    "27\n",
    "37\n",
    "47\n",
    "57\n",
    "67\n",
    "77\n",
    "87\n",
    "97\n",
    "​\n",
    "  \n",
    "8\n",
    "18\n",
    "28\n",
    "38\n",
    "48\n",
    "58\n",
    "68\n",
    "78\n",
    "88\n",
    "98\n",
    "​\n",
    "  \n",
    "9\n",
    "19\n",
    "29\n",
    "39\n",
    "49\n",
    "59\n",
    "69\n",
    "79\n",
    "89\n",
    "99\n",
    "​\n",
    "  \n",
    "10\n",
    "20\n",
    "30\n",
    "40\n",
    "50\n",
    "60\n",
    "70\n",
    "80\n",
    "90\n",
    "100\n",
    "​\n",
    "  \n",
    "​\n",
    " \n",
    "]"
   ]
  },
  {
   "cell_type": "code",
   "execution_count": 2,
   "id": "6c184e3f-fe30-4c44-a7cc-27004a94b801",
   "metadata": {},
   "outputs": [],
   "source": [
    "def display_home_grid(home_map):\n",
    "     \"\"\"\" Takes a list as argument and outputs of function display_home_grid(home_map)\"\"\"\n",
    "    clear_output()\n",
    "\n",
    "    #row_lst = ['A','B','C','D','E','F','G','H','I','J']\n",
    "    row_lst = list(range(1,11))\n",
    "    column_lst = list(range(1,11))\n",
    "\n",
    "    \n",
    "   for row in row_lst:\n",
    "       print(\"-\")\n",
    "       for column in column_lst:\n",
    "           print(\"| \" + home_map[row][column] + \" |\")"
   ]
  },
  {
   "cell_type": "code",
   "execution_count": null,
   "id": "0d29d392-fb8d-4123-841a-5e8fc5216c29",
   "metadata": {},
   "outputs": [],
   "source": []
  },
  {
   "cell_type": "code",
   "execution_count": 5,
   "id": "79ce1a45-90aa-42cf-bc0f-b2b3b21ffda4",
   "metadata": {},
   "outputs": [
    {
     "data": {
      "text/plain": [
       "[1, 2, 3, 4, 5, 6, 7, 8, 9, 10]"
      ]
     },
     "execution_count": 5,
     "metadata": {},
     "output_type": "execute_result"
    }
   ],
   "source": [
    "\n",
    "display_home_grid(home_map)"
   ]
  },
  {
   "cell_type": "code",
   "execution_count": 3,
   "id": "03319838-8e23-4a7a-b2b4-602159891c2d",
   "metadata": {},
   "outputs": [
    {
     "name": "stdout",
     "output_type": "stream",
     "text": [
      "   |    |   |\n"
     ]
    },
    {
     "ename": "NameError",
     "evalue": "name 'board' is not defined",
     "output_type": "error",
     "traceback": [
      "\u001b[1;31m---------------------------------------------------------------------------\u001b[0m",
      "\u001b[1;31mNameError\u001b[0m                                 Traceback (most recent call last)",
      "Cell \u001b[1;32mIn[3], line 1\u001b[0m\n\u001b[1;32m----> 1\u001b[0m display_home_grid()\n",
      "Cell \u001b[1;32mIn[2], line 3\u001b[0m, in \u001b[0;36mdisplay_home_grid\u001b[1;34m()\u001b[0m\n\u001b[0;32m      1\u001b[0m \u001b[38;5;28;01mdef\u001b[39;00m \u001b[38;5;21mdisplay_home_grid\u001b[39m():\n\u001b[0;32m      2\u001b[0m     \u001b[38;5;28mprint\u001b[39m(\u001b[38;5;124m'\u001b[39m\u001b[38;5;124m   |    |   |\u001b[39m\u001b[38;5;124m'\u001b[39m)\n\u001b[1;32m----> 3\u001b[0m     \u001b[38;5;28mprint\u001b[39m(\u001b[38;5;124m'\u001b[39m\u001b[38;5;124m \u001b[39m\u001b[38;5;124m'\u001b[39m \u001b[38;5;241m+\u001b[39m board[\u001b[38;5;241m1\u001b[39m]  \u001b[38;5;241m+\u001b[39m \u001b[38;5;124m'\u001b[39m\u001b[38;5;124m |  \u001b[39m\u001b[38;5;124m'\u001b[39m \u001b[38;5;241m+\u001b[39m board[\u001b[38;5;241m2\u001b[39m] \u001b[38;5;241m+\u001b[39m \u001b[38;5;124m'\u001b[39m\u001b[38;5;124m | \u001b[39m\u001b[38;5;124m'\u001b[39m \u001b[38;5;241m+\u001b[39m board[\u001b[38;5;241m3\u001b[39m])\n\u001b[0;32m      4\u001b[0m     \u001b[38;5;28mprint\u001b[39m(\u001b[38;5;124m'\u001b[39m\u001b[38;5;124m   |    |   |\u001b[39m\u001b[38;5;124m'\u001b[39m)\n\u001b[0;32m      5\u001b[0m     \u001b[38;5;28mprint\u001b[39m(\u001b[38;5;124m'\u001b[39m\u001b[38;5;124m   |    |   |\u001b[39m\u001b[38;5;124m'\u001b[39m)\n",
      "\u001b[1;31mNameError\u001b[0m: name 'board' is not defined"
     ]
    }
   ],
   "source": [
    "display_home_grid()"
   ]
  },
  {
   "cell_type": "code",
   "execution_count": null,
   "id": "94ec6030-b8a8-4039-9858-1e32d52c6eeb",
   "metadata": {},
   "outputs": [],
   "source": []
  }
 ],
 "metadata": {
  "kernelspec": {
   "display_name": "Python 3 (ipykernel)",
   "language": "python",
   "name": "python3"
  },
  "language_info": {
   "codemirror_mode": {
    "name": "ipython",
    "version": 3
   },
   "file_extension": ".py",
   "mimetype": "text/x-python",
   "name": "python",
   "nbconvert_exporter": "python",
   "pygments_lexer": "ipython3",
   "version": "3.12.4"
  }
 },
 "nbformat": 4,
 "nbformat_minor": 5
}
