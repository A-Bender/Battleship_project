{
 "cells": [
  {
   "cell_type": "code",
   "execution_count": 1,
   "id": "1bc1eaa8-030c-47f5-a77f-137acf7c839c",
   "metadata": {},
   "outputs": [
    {
     "name": "stdout",
     "output_type": "stream",
     "text": [
      "Let see if this works!\n"
     ]
    }
   ],
   "source": [
    "print(\"Let see if this works!\")"
   ]
  },
  {
   "cell_type": "code",
   "execution_count": null,
   "id": "db7182d4-0693-46de-99ca-80b13caba0ac",
   "metadata": {},
   "outputs": [],
   "source": []
  }
 ],
 "metadata": {
  "kernelspec": {
   "display_name": "Python 3 (ipykernel)",
   "language": "python",
   "name": "python3"
  },
  "language_info": {
   "codemirror_mode": {
    "name": "ipython",
    "version": 3
   },
   "file_extension": ".py",
   "mimetype": "text/x-python",
   "name": "python",
   "nbconvert_exporter": "python",
   "pygments_lexer": "ipython3",
   "version": "3.12.4"
  }
 },
 "nbformat": 4,
 "nbformat_minor": 5
}
