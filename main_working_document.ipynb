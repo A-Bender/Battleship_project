{
 "cells": [
  {
   "cell_type": "markdown",
   "id": "53667ad3-95dc-4a00-9733-be5be7f4d9aa",
   "metadata": {},
   "source": [
    "# Battleship Game\n",
    "functions list:  <br>\n",
    "display_home_grid(home_map):grid where the ships are"
   ]
  },
  {
   "cell_type": "code",
   "execution_count": 21,
   "id": "29552e2f-4a20-4f50-a81f-b6b49563a382",
   "metadata": {},
   "outputs": [
    {
     "data": {
      "text/plain": [
       "[[1, 2, 3, 4, 5, 6, 7, 8, 9, 10],\n",
       " [11, 12, 13, 14, 15, 16, 17, 18, 19, 20],\n",
       " [21, 22, 23, 24, 25, 26, 27, 28, 29, 30],\n",
       " [31, 32, 33, 34, 35, 36, 37, 38, 39, 40],\n",
       " [41, 42, 43, 44, 45, 46, 47, 48, 49, 50],\n",
       " [51, 52, 53, 54, 55, 56, 57, 58, 59, 60],\n",
       " [61, 62, 63, 64, 65, 66, 67, 68, 69, 70],\n",
       " [71, 72, 73, 74, 75, 76, 77, 78, 79, 80],\n",
       " [81, 82, 83, 84, 85, 86, 87, 88, 89, 90],\n",
       " [91, 92, 93, 94, 95, 96, 97, 98, 99, 100]]"
      ]
     },
     "execution_count": 21,
     "metadata": {},
     "output_type": "execute_result"
    }
   ],
   "source": [
    "home_map =[[(i * 10) + j + 1 for j in range(10)] for i in range(10)]\n",
    "\n",
    "home_map"
   ]
  },
  {
   "cell_type": "code",
   "execution_count": 52,
   "id": "6c184e3f-fe30-4c44-a7cc-27004a94b801",
   "metadata": {},
   "outputs": [],
   "source": [
    "from IPython.display import clear_output\n",
    "\n",
    "def display_home_grid(home_map):\n",
    "    \"\"\"\" Takes a list as argument and outputs of function display_home_grid(home_map)\"\"\"\n",
    "    clear_output()\n",
    "\n",
    "    #row_lst = ['A','B','C','D','E','F','G','H','I','J']\n",
    "    row_lst = list(range(1,11))\n",
    "    column_lst = list(range(1,11))\n",
    "\n",
    "    \n",
    "    for row in row_lst:\n",
    "        #print(\" \")\n",
    "        for column in column_lst:\n",
    "            print(f\"|  {home_map[int(row)-1][int(column)-1]}  |\")"
   ]
  },
  {
   "cell_type": "code",
   "execution_count": 38,
   "id": "a1d76743-2c05-4842-a74c-e948dcc83b70",
   "metadata": {},
   "outputs": [
    {
     "name": "stdout",
     "output_type": "stream",
     "text": [
      "[1, 2, 3, 4, 5, 6, 7, 8, 9, 10]\n",
      "<class 'list'>\n"
     ]
    }
   ],
   "source": [
    "row_lst = [int(x) for x in list(range(1,11))]\n",
    "\n",
    "print(row_lst)\n",
    "print(type(row_lst))"
   ]
  },
  {
   "cell_type": "code",
   "execution_count": null,
   "id": "0eeb99ba-5771-4c55-8754-4fd7d3fdb405",
   "metadata": {},
   "outputs": [],
   "source": []
  },
  {
   "cell_type": "code",
   "execution_count": 53,
   "id": "79ce1a45-90aa-42cf-bc0f-b2b3b21ffda4",
   "metadata": {},
   "outputs": [
    {
     "name": "stdout",
     "output_type": "stream",
     "text": [
      "|  1  |\n",
      "|  2  |\n",
      "|  3  |\n",
      "|  4  |\n",
      "|  5  |\n",
      "|  6  |\n",
      "|  7  |\n",
      "|  8  |\n",
      "|  9  |\n",
      "|  10  |\n",
      "|  11  |\n",
      "|  12  |\n",
      "|  13  |\n",
      "|  14  |\n",
      "|  15  |\n",
      "|  16  |\n",
      "|  17  |\n",
      "|  18  |\n",
      "|  19  |\n",
      "|  20  |\n",
      "|  21  |\n",
      "|  22  |\n",
      "|  23  |\n",
      "|  24  |\n",
      "|  25  |\n",
      "|  26  |\n",
      "|  27  |\n",
      "|  28  |\n",
      "|  29  |\n",
      "|  30  |\n",
      "|  31  |\n",
      "|  32  |\n",
      "|  33  |\n",
      "|  34  |\n",
      "|  35  |\n",
      "|  36  |\n",
      "|  37  |\n",
      "|  38  |\n",
      "|  39  |\n",
      "|  40  |\n",
      "|  41  |\n",
      "|  42  |\n",
      "|  43  |\n",
      "|  44  |\n",
      "|  45  |\n",
      "|  46  |\n",
      "|  47  |\n",
      "|  48  |\n",
      "|  49  |\n",
      "|  50  |\n",
      "|  51  |\n",
      "|  52  |\n",
      "|  53  |\n",
      "|  54  |\n",
      "|  55  |\n",
      "|  56  |\n",
      "|  57  |\n",
      "|  58  |\n",
      "|  59  |\n",
      "|  60  |\n",
      "|  61  |\n",
      "|  62  |\n",
      "|  63  |\n",
      "|  64  |\n",
      "|  65  |\n",
      "|  66  |\n",
      "|  67  |\n",
      "|  68  |\n",
      "|  69  |\n",
      "|  70  |\n",
      "|  71  |\n",
      "|  72  |\n",
      "|  73  |\n",
      "|  74  |\n",
      "|  75  |\n",
      "|  76  |\n",
      "|  77  |\n",
      "|  78  |\n",
      "|  79  |\n",
      "|  80  |\n",
      "|  81  |\n",
      "|  82  |\n",
      "|  83  |\n",
      "|  84  |\n",
      "|  85  |\n",
      "|  86  |\n",
      "|  87  |\n",
      "|  88  |\n",
      "|  89  |\n",
      "|  90  |\n",
      "|  91  |\n",
      "|  92  |\n",
      "|  93  |\n",
      "|  94  |\n",
      "|  95  |\n",
      "|  96  |\n",
      "|  97  |\n",
      "|  98  |\n",
      "|  99  |\n",
      "|  100  |\n"
     ]
    }
   ],
   "source": [
    "display_home_grid(home_map)"
   ]
  },
  {
   "cell_type": "code",
   "execution_count": null,
   "id": "94ec6030-b8a8-4039-9858-1e32d52c6eeb",
   "metadata": {},
   "outputs": [],
   "source": []
  }
 ],
 "metadata": {
  "kernelspec": {
   "display_name": "Python 3 (ipykernel)",
   "language": "python",
   "name": "python3"
  },
  "language_info": {
   "codemirror_mode": {
    "name": "ipython",
    "version": 3
   },
   "file_extension": ".py",
   "mimetype": "text/x-python",
   "name": "python",
   "nbconvert_exporter": "python",
   "pygments_lexer": "ipython3",
   "version": "3.12.4"
  }
 },
 "nbformat": 4,
 "nbformat_minor": 5
}
