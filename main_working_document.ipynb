{
 "cells": [
  {
   "cell_type": "markdown",
   "id": "53667ad3-95dc-4a00-9733-be5be7f4d9aa",
   "metadata": {},
   "source": [
    "# Battleship Game\n",
    "functions list:  <br>\n",
    "display_home_grid(home_map):grid where the ships are"
   ]
  },
  {
   "cell_type": "code",
   "execution_count": 116,
   "id": "29552e2f-4a20-4f50-a81f-b6b49563a382",
   "metadata": {
    "scrolled": true
   },
   "outputs": [
    {
     "data": {
      "text/plain": [
       "[[1, 2, 3, 4, 5, 6, 7, 8, 9, 10],\n",
       " [11, 12, 13, 14, 15, 16, 17, 18, 19, 20],\n",
       " [21, 22, 23, 24, 25, 26, 27, 28, 29, 30],\n",
       " [31, 32, 33, 34, 35, 36, 37, 38, 39, 40],\n",
       " [41, 42, 43, 44, 45, 46, 47, 48, 49, 50],\n",
       " [51, 52, 53, 54, 55, 56, 57, 58, 59, 60],\n",
       " [61, 62, 63, 64, 65, 66, 67, 68, 69, 70],\n",
       " [71, 72, 73, 74, 75, 76, 77, 78, 79, 80],\n",
       " [81, 82, 83, 84, 85, 86, 87, 88, 89, 90],\n",
       " [91, 92, 93, 94, 95, 96, 97, 98, 99, 100]]"
      ]
     },
     "execution_count": 116,
     "metadata": {},
     "output_type": "execute_result"
    }
   ],
   "source": [
    "home_map =[[(i * 10) + j + 1 for j in range(10)] for i in range(10)]\n",
    "\n",
    "home_map"
   ]
  },
  {
   "cell_type": "code",
   "execution_count": 71,
   "id": "7a5d625c-184b-4906-a496-89cffe5df32f",
   "metadata": {},
   "outputs": [
    {
     "data": {
      "text/plain": [
       "[11, 12, 13, 14, 15, 16, 17, 18, 19, 20]"
      ]
     },
     "execution_count": 71,
     "metadata": {},
     "output_type": "execute_result"
    }
   ],
   "source": [
    "home_map[1]\n",
    "    "
   ]
  },
  {
   "cell_type": "code",
   "execution_count": null,
   "id": "cc2b2b73-1fd7-4346-9742-de0381be1dcc",
   "metadata": {},
   "outputs": [],
   "source": [
    "for row in row_lst:\n",
    "        for column in column_lst:\n",
    "            print(f\"|  {home_map[int(row)-1][  |\")"
   ]
  },
  {
   "cell_type": "code",
   "execution_count": 73,
   "id": "829e8d93-5067-44a1-9db9-501525ff4639",
   "metadata": {},
   "outputs": [],
   "source": [
    "def display_board(board):\n",
    "    \"\"\"Takes a list as argument and outputs it as a tic tac toe board\"\"\"\n",
    "    clear_output() # function that clears board everytime it is printed\n",
    "\n",
    "    print('   |   |')\n",
    "    print(' ' + board[1] + ' | ' + board[2] + ' | '+ board[3] + ' | ' + board[4] + ' | '+ board[5] + ' | ' + board[6] + ' | '+ board[7] + ' | ' + board[8] + ' | '+ board[9] + ' | ' + board[10])\n",
    "    print('   |   |')\n",
    "    print('----------')\n",
    "    print('   |   |')\n",
    "    print(' ' + board[4] + ' | ' + board[5] + ' | '+ board[6])\n",
    "    print('   |   |')\n",
    "    print('----------')\n",
    "    print('   |   |')\n",
    "    print(' ' + board[7] + ' | ' + board[8] + ' | '+ board[9])\n",
    "    print('   |   |')"
   ]
  },
  {
   "cell_type": "code",
   "execution_count": 146,
   "id": "582d3d57-12ea-49ce-8f35-139000fb773a",
   "metadata": {},
   "outputs": [],
   "source": [
    "def display_board(home_map):\n",
    "    row_lst = list(range(0,11))\n",
    "    column_lst = list(range(1,11))\n",
    "    \n",
    "    for row in row_lst:\n",
    "        print(f\"  {home_map[row][0]} |  {home_map[row][1]}  | {home_map[row][2] }  |  {home_map[row][3]}  | {home_map[row][4]} | {home_map[row][5]}  | {home_map[row][6]} | {home_map[row][7]} | {home_map[row][8]} | {home_map[row][9]}\")\n"
   ]
  },
  {
   "cell_type": "code",
   "execution_count": 148,
   "id": "d20c0405-6029-4eba-b39a-888111737928",
   "metadata": {},
   "outputs": [
    {
     "name": "stdout",
     "output_type": "stream",
     "text": [
      "  1      |  2  | 3  |  4  | 5 | 6  | 7 | 8 | 9 | 10\n",
      "  11      |  12  | 13  |  14  | 15 | 16  | 17 | 18 | 19 | 20\n",
      "  21      |  22  | 23  |  24  | 25 | 26  | 27 | 28 | 29 | 30\n",
      "  31      |  32  | 33  |  34  | 35 | 36  | 37 | 38 | 39 | 40\n",
      "  41      |  42  | 43  |  44  | 45 | 46  | 47 | 48 | 49 | 50\n",
      "  51      |  52  | 53  |  54  | 55 | 56  | 57 | 58 | 59 | 60\n",
      "  61      |  62  | 63  |  64  | 65 | 66  | 67 | 68 | 69 | 70\n",
      "  71      |  72  | 73  |  74  | 75 | 76  | 77 | 78 | 79 | 80\n",
      "  81      |  82  | 83  |  84  | 85 | 86  | 87 | 88 | 89 | 90\n",
      "  91      |  92  | 93  |  94  | 95 | 96  | 97 | 98 | 99 | 100\n"
     ]
    },
    {
     "ename": "IndexError",
     "evalue": "list index out of range",
     "output_type": "error",
     "traceback": [
      "\u001b[1;31m---------------------------------------------------------------------------\u001b[0m",
      "\u001b[1;31mIndexError\u001b[0m                                Traceback (most recent call last)",
      "Cell \u001b[1;32mIn[148], line 1\u001b[0m\n\u001b[1;32m----> 1\u001b[0m display_board(home_map)\n",
      "Cell \u001b[1;32mIn[146], line 6\u001b[0m, in \u001b[0;36mdisplay_board\u001b[1;34m(home_map)\u001b[0m\n\u001b[0;32m      3\u001b[0m column_lst \u001b[38;5;241m=\u001b[39m \u001b[38;5;28mlist\u001b[39m(\u001b[38;5;28mrange\u001b[39m(\u001b[38;5;241m1\u001b[39m,\u001b[38;5;241m11\u001b[39m))\n\u001b[0;32m      5\u001b[0m \u001b[38;5;28;01mfor\u001b[39;00m row \u001b[38;5;129;01min\u001b[39;00m row_lst:\n\u001b[1;32m----> 6\u001b[0m     \u001b[38;5;28mprint\u001b[39m(\u001b[38;5;124mf\u001b[39m\u001b[38;5;124m\"\u001b[39m\u001b[38;5;124m  \u001b[39m\u001b[38;5;132;01m{\u001b[39;00mhome_map[row][\u001b[38;5;241m0\u001b[39m]\u001b[38;5;132;01m}\u001b[39;00m\u001b[38;5;124m      |  \u001b[39m\u001b[38;5;132;01m{\u001b[39;00mhome_map[row][\u001b[38;5;241m1\u001b[39m]\u001b[38;5;132;01m}\u001b[39;00m\u001b[38;5;124m  | \u001b[39m\u001b[38;5;132;01m{\u001b[39;00mhome_map[row][\u001b[38;5;241m2\u001b[39m]\u001b[38;5;250m \u001b[39m\u001b[38;5;132;01m}\u001b[39;00m\u001b[38;5;124m  |  \u001b[39m\u001b[38;5;132;01m{\u001b[39;00mhome_map[row][\u001b[38;5;241m3\u001b[39m]\u001b[38;5;132;01m}\u001b[39;00m\u001b[38;5;124m  | \u001b[39m\u001b[38;5;132;01m{\u001b[39;00mhome_map[row][\u001b[38;5;241m4\u001b[39m]\u001b[38;5;132;01m}\u001b[39;00m\u001b[38;5;124m | \u001b[39m\u001b[38;5;132;01m{\u001b[39;00mhome_map[row][\u001b[38;5;241m5\u001b[39m]\u001b[38;5;132;01m}\u001b[39;00m\u001b[38;5;124m  | \u001b[39m\u001b[38;5;132;01m{\u001b[39;00mhome_map[row][\u001b[38;5;241m6\u001b[39m]\u001b[38;5;132;01m}\u001b[39;00m\u001b[38;5;124m | \u001b[39m\u001b[38;5;132;01m{\u001b[39;00mhome_map[row][\u001b[38;5;241m7\u001b[39m]\u001b[38;5;132;01m}\u001b[39;00m\u001b[38;5;124m | \u001b[39m\u001b[38;5;132;01m{\u001b[39;00mhome_map[row][\u001b[38;5;241m8\u001b[39m]\u001b[38;5;132;01m}\u001b[39;00m\u001b[38;5;124m | \u001b[39m\u001b[38;5;132;01m{\u001b[39;00mhome_map[row][\u001b[38;5;241m9\u001b[39m]\u001b[38;5;132;01m}\u001b[39;00m\u001b[38;5;124m\"\u001b[39m)\n",
      "\u001b[1;31mIndexError\u001b[0m: list index out of range"
     ]
    }
   ],
   "source": [
    "\n",
    "display_board(home_map)"
   ]
  },
  {
   "cell_type": "code",
   "execution_count": null,
   "id": "f1542686-52bc-4149-9ecc-c258f97085e8",
   "metadata": {},
   "outputs": [],
   "source": []
  },
  {
   "cell_type": "code",
   "execution_count": 10,
   "id": "6c184e3f-fe30-4c44-a7cc-27004a94b801",
   "metadata": {},
   "outputs": [],
   "source": [
    "from IPython.display import clear_output\n",
    "\n",
    "def display_home_grid(home_map):\n",
    "    \"\"\"\" Takes a list as argument and outputs of function display_home_grid(home_map)\"\"\"\n",
    "    clear_output()\n",
    "\n",
    "    #row_lst = ['A','B','C','D','E','F','G','H','I','J']\n",
    "    row_lst = list(range(1,11))\n",
    "    column_lst = list(range(1,11))\n",
    "\n",
    "    \n",
    "    for row in row_lst:\n",
    "        #print(\" \")\n",
    "        for column in column_lst:\n",
    "            print(f\"|  {home_map[int(row)-1][int(column)-1]}  |\")"
   ]
  },
  {
   "cell_type": "code",
   "execution_count": null,
   "id": "0eeb99ba-5771-4c55-8754-4fd7d3fdb405",
   "metadata": {},
   "outputs": [],
   "source": []
  },
  {
   "cell_type": "code",
   "execution_count": null,
   "id": "44964437-76bd-4c33-8da2-197905132bac",
   "metadata": {},
   "outputs": [],
   "source": []
  },
  {
   "cell_type": "code",
   "execution_count": null,
   "id": "c12c2734-0545-4c91-bd71-fe17388b174c",
   "metadata": {},
   "outputs": [],
   "source": []
  },
  {
   "cell_type": "code",
   "execution_count": null,
   "id": "8dfa5305-7913-44af-b398-3d989e3a36a4",
   "metadata": {},
   "outputs": [],
   "source": []
  },
  {
   "cell_type": "code",
   "execution_count": null,
   "id": "d458e4e8-2522-4843-a3b3-10d3c445b836",
   "metadata": {},
   "outputs": [],
   "source": []
  },
  {
   "cell_type": "code",
   "execution_count": null,
   "id": "d8986c3e-3f61-4b81-acc8-cbffdd3d0cb7",
   "metadata": {},
   "outputs": [],
   "source": []
  },
  {
   "cell_type": "code",
   "execution_count": null,
   "id": "b0115795-0e2d-42fa-b6f8-358084341554",
   "metadata": {},
   "outputs": [],
   "source": []
  },
  {
   "cell_type": "code",
   "execution_count": null,
   "id": "90af2ff7-2577-454e-8b03-c0fcf2164a00",
   "metadata": {},
   "outputs": [],
   "source": [
    "board = []\n",
    "for x in range(10):\n",
    "    board.append([\"|_|\"] * 10)\n",
    "def print_board(board):\n",
    "    print(\" \", \" \".join(\"0 1 2 3 4 5 6 7 8 9\"))\n",
    "    for letter, row in zip(\"ABCDEFGHIJ\", board):\n",
    "        print(letter, \" \".join(row))\n",
    "print_board(board)"
   ]
  },
  {
   "cell_type": "code",
   "execution_count": null,
   "id": "f0466515-04ef-49f0-b748-35435922b74a",
   "metadata": {},
   "outputs": [],
   "source": []
  },
  {
   "cell_type": "code",
   "execution_count": null,
   "id": "94ec6030-b8a8-4039-9858-1e32d52c6eeb",
   "metadata": {},
   "outputs": [],
   "source": []
  }
 ],
 "metadata": {
  "kernelspec": {
   "display_name": "Python 3 (ipykernel)",
   "language": "python",
   "name": "python3"
  },
  "language_info": {
   "codemirror_mode": {
    "name": "ipython",
    "version": 3
   },
   "file_extension": ".py",
   "mimetype": "text/x-python",
   "name": "python",
   "nbconvert_exporter": "python",
   "pygments_lexer": "ipython3",
   "version": "3.12.4"
  }
 },
 "nbformat": 4,
 "nbformat_minor": 5
}
