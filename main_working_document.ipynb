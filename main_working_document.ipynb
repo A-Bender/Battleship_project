{
 "cells": [
  {
<<<<<<< HEAD
   "cell_type": "code",
   "execution_count": null,
   "id": "03b56a76-5ef0-499c-b1f4-b1f98ffb5fac",
=======
   "cell_type": "markdown",
   "id": "53667ad3-95dc-4a00-9733-be5be7f4d9aa",
   "metadata": {},
   "source": [
    "# Battleship Game\n",
    "functions list:  <br>\n",
    "display_home_grid(home_map):grid where the ships are"
   ]
  },
  {
   "cell_type": "code",
   "execution_count": null,
   "id": "3c695ec6-d124-420d-9a3e-2af3b6a7e9f3",
   "metadata": {},
   "outputs": [],
   "source": []
  },
  {
   "cell_type": "code",
   "execution_count": null,
   "id": "49102f13-e53b-4651-8d1b-c66c336b330b",
   "metadata": {},
   "outputs": [],
   "source": []
  },
  {
   "cell_type": "code",
   "execution_count": null,
   "id": "bc2c1f77-f61f-4d33-b4c2-b156fab8fa5d",
   "metadata": {},
   "outputs": [],
   "source": []
  },
  {
   "cell_type": "code",
   "execution_count": null,
   "id": "329fcd3b-3390-4a61-a7da-8ce54cbbec2d",
   "metadata": {},
   "outputs": [],
   "source": []
  },
  {
   "cell_type": "code",
   "execution_count": null,
   "id": "6c4c2a30-86dc-4cfd-8da7-6519e5ec9904",
   "metadata": {},
   "outputs": [],
   "source": []
  },
  {
   "cell_type": "code",
   "execution_count": null,
   "id": "2640d715-77d6-459e-8364-2da785c105ed",
   "metadata": {},
   "outputs": [],
   "source": []
  },
  {
   "cell_type": "code",
   "execution_count": null,
   "id": "f998e065-ce81-4232-9ca1-8f503e17191a",
   "metadata": {},
   "outputs": [],
   "source": []
  },
  {
   "cell_type": "code",
   "execution_count": 389,
   "id": "29552e2f-4a20-4f50-a81f-b6b49563a382",
   "metadata": {
    "scrolled": true
   },
   "outputs": [
    {
     "data": {
      "text/plain": [
       "[[1, 2, 3, 4, 5, 6, 7, 8, 9, 10],\n",
       " [11, 12, 13, 14, 15, 16, 17, 18, 19, 20],\n",
       " [21, 22, 23, 24, 25, 26, 27, 28, 29, 30],\n",
       " [31, 32, 33, 34, 35, 36, 37, 38, 39, 40],\n",
       " [41, 42, 43, 44, 45, 46, 47, 48, 49, 50],\n",
       " [51, 52, 53, 54, 55, 56, 57, 58, 59, 60],\n",
       " [61, 62, 63, 64, 65, 66, 67, 68, 69, 70],\n",
       " [71, 72, 73, 74, 75, 76, 77, 78, 79, 80],\n",
       " [81, 82, 83, 84, 85, 86, 87, 88, 89, 90],\n",
       " [91, 92, 93, 94, 95, 96, 97, 98, 99, 100]]"
      ]
     },
     "execution_count": 389,
     "metadata": {},
     "output_type": "execute_result"
    }
   ],
   "source": [
    "home_map =[[(i * 10) + j + 1 for j in range(10)] for i in range(10)]\n",
    "\n",
    "home_map"
   ]
  },
  {
   "cell_type": "code",
   "execution_count": 391,
   "id": "7a5d625c-184b-4906-a496-89cffe5df32f",
   "metadata": {},
   "outputs": [
    {
     "data": {
      "text/plain": [
       "[11, 12, 13, 14, 15, 16, 17, 18, 19, 20]"
      ]
     },
     "execution_count": 391,
     "metadata": {},
     "output_type": "execute_result"
    }
   ],
   "source": [
    "home_map[1]\n",
    "    "
   ]
  },
  {
   "cell_type": "code",
   "execution_count": null,
   "id": "cc2b2b73-1fd7-4346-9742-de0381be1dcc",
   "metadata": {},
   "outputs": [],
   "source": []
  },
  {
   "cell_type": "code",
   "execution_count": null,
   "id": "aa6dda0a-0553-4757-87d3-65cee79b2b39",
   "metadata": {},
   "outputs": [],
   "source": []
  },
  {
   "cell_type": "code",
   "execution_count": 395,
   "id": "96d4fd53-27a1-44fe-af86-9b00f656e57b",
   "metadata": {},
   "outputs": [],
   "source": [
    "letters_to_numbers = {\n",
    "    'A': 0,\n",
    "    'B': 1,\n",
    "    'C': 2,\n",
    "    'D': 3,\n",
    "    'E': 4,\n",
    "    'F': 5,\n",
    "    'G': 6,\n",
    "    'H': 7,\n",
    "    'I': 8,\n",
    "    'J': 9\n",
    "}"
   ]
  },
  {
   "cell_type": "code",
   "execution_count": 397,
   "id": "eb70a11f-2ffd-4e70-ac90-9f3157634e91",
   "metadata": {},
   "outputs": [],
   "source": [
    "# By writing this as a function, we don't have to repeat it later. It's less code, it makes\n",
    "# the rest easier to read, and if we improve this, we have to do it only once!\n",
    "def ask_user_for_board_position():\n",
    "    column = input(\"column (A to j):\")\n",
    "    while column.upper() not in \"ABCDEFGHIJ\":\n",
    "        print(\"That column is wrong! It should be A, B, C, D, E, F, G, H, I or J\")\n",
    "        column = input(\"column (A to J):\")\n",
    "\n",
    "    row = input(\"row (1 to 10):\")\n",
    "    while row not in \"12345678910\":\n",
    "        print(\"That row is wrong! it should be 1, 2, 3, 4, 5, 6, 7, 8, 9 or 10\")\n",
    "        row = input(\"row (1 to 10):\")\n",
    "\n",
    "    # The code calling this function will receive the values listed in the return statement below\n",
    "    # and it can assign it to variables\n",
    "    return int(row) - 1, letters_to_numbers[column]"
   ]
  },
  {
   "cell_type": "code",
   "execution_count": 399,
   "id": "829e8d93-5067-44a1-9db9-501525ff4639",
   "metadata": {},
   "outputs": [],
   "source": [
    "def display_home_grid(home_map):\n",
    "    row_lst = range(1,11)\n",
    "    column_lst = range(1,11)\n",
    "    print(\"   A    B    C    D    E    F    G    H    I    J\")\n",
    "    print(\"-----------------------------------------------\")\n",
    "    for row in row_lst:\n",
    "        print(f\" {row} | {home_map[row-1][0]} | {home_map[row-1][1]} | {home_map[row-1][2]} | {home_map[row-1][3]} | {home_map[row-1][4]} | {home_map[row-1][5]} | {home_map[row-1][6]} | {home_map[row-1][7]} | {home_map[row-1][8]} | {home_map[row-1][9]} |\")\n",
    "        print(\"-----------------------------------------------\")"
   ]
  },
  {
   "cell_type": "code",
   "execution_count": 401,
   "id": "af8094ab-9cd1-4f57-902d-99247344a2b3",
   "metadata": {},
   "outputs": [
    {
     "name": "stdout",
     "output_type": "stream",
     "text": [
      "   A    B    C    D    E    F    G    H    I    J\n",
      "-----------------------------------------------\n",
      " 1 | 1 | 2 | 3 | 4 | 5 | 6 | 7 | 8 | 9 | 10 |\n",
      "-----------------------------------------------\n",
      " 2 | 11 | 12 | 13 | 14 | 15 | 16 | 17 | 18 | 19 | 20 |\n",
      "-----------------------------------------------\n",
      " 3 | 21 | 22 | 23 | 24 | 25 | 26 | 27 | 28 | 29 | 30 |\n",
      "-----------------------------------------------\n",
      " 4 | 31 | 32 | 33 | 34 | 35 | 36 | 37 | 38 | 39 | 40 |\n",
      "-----------------------------------------------\n",
      " 5 | 41 | 42 | 43 | 44 | 45 | 46 | 47 | 48 | 49 | 50 |\n",
      "-----------------------------------------------\n",
      " 6 | 51 | 52 | 53 | 54 | 55 | 56 | 57 | 58 | 59 | 60 |\n",
      "-----------------------------------------------\n",
      " 7 | 61 | 62 | 63 | 64 | 65 | 66 | 67 | 68 | 69 | 70 |\n",
      "-----------------------------------------------\n",
      " 8 | 71 | 72 | 73 | 74 | 75 | 76 | 77 | 78 | 79 | 80 |\n",
      "-----------------------------------------------\n",
      " 9 | 81 | 82 | 83 | 84 | 85 | 86 | 87 | 88 | 89 | 90 |\n",
      "-----------------------------------------------\n",
      " 10 | 91 | 92 | 93 | 94 | 95 | 96 | 97 | 98 | 99 | 100 |\n",
      "-----------------------------------------------\n"
     ]
    }
   ],
   "source": [
    "display_home_grid(home_map)"
   ]
  },
  {
   "cell_type": "code",
   "execution_count": null,
   "id": "83955bae-f45b-4b04-aa3e-c1a28583c253",
   "metadata": {},
   "outputs": [],
   "source": []
  },
  {
   "cell_type": "code",
   "execution_count": null,
   "id": "682b76b8-50cf-42f6-a521-cda3cef7860f",
   "metadata": {},
   "outputs": [],
   "source": []
  },
  {
   "cell_type": "code",
   "execution_count": null,
   "id": "dcad9204-478d-4b0d-8f89-5f47e341a10e",
   "metadata": {},
   "outputs": [],
   "source": []
  },
  {
   "cell_type": "code",
   "execution_count": null,
   "id": "e2c731ec-1846-4643-9af3-9dad97130366",
   "metadata": {},
   "outputs": [],
   "source": []
  },
  {
   "cell_type": "code",
   "execution_count": 348,
   "id": "39cacd84-3764-4732-9a5a-7d252d897ada",
   "metadata": {},
   "outputs": [],
   "source": [
    "import random\n",
    "\n",
    "def choose_turn():\n",
    "    \"\"\"function for deciding if player one or two goes first\"\"\"\n",
    "\n",
    "    if random.randint(0, 1) == 0:\n",
    "        return \"Player 1\"\n",
    "    else:\n",
    "        return \"Player 2\""
   ]
  },
  {
   "cell_type": "code",
   "execution_count": 350,
   "id": "c1e18c16-2c83-491a-bcea-4bc4777cf095",
   "metadata": {},
   "outputs": [
    {
     "name": "stdout",
     "output_type": "stream",
     "text": [
      "Player 2\n",
      "Player 1\n",
      "Player 2\n",
      "Player 1\n",
      "Player 1\n",
      "Player 1\n",
      "Player 2\n",
      "Player 1\n",
      "Player 2\n",
      "Player 2\n"
     ]
    }
   ],
   "source": [
    "for j in range(10):\n",
    "    print(choose_turn())"
   ]
  },
  {
   "cell_type": "code",
   "execution_count": null,
   "id": "46db8a6d-8517-454a-8381-7bc8917b08c5",
   "metadata": {},
   "outputs": [],
   "source": []
  },
  {
   "cell_type": "code",
   "execution_count": 353,
   "id": "1ecf1329-a758-4d3c-8626-195c5ee47796",
   "metadata": {},
   "outputs": [],
   "source": [
    "ship_1 = [\"0\"]\n"
   ]
  },
  {
   "cell_type": "code",
   "execution_count": 363,
   "id": "c7f29ba8-9e76-4eae-89ed-1033d755a71d",
   "metadata": {},
   "outputs": [
    {
     "ename": "SyntaxError",
     "evalue": "incomplete input (1543500758.py, line 1)",
     "output_type": "error",
     "traceback": [
      "\u001b[1;36m  Cell \u001b[1;32mIn[363], line 1\u001b[1;36m\u001b[0m\n\u001b[1;33m    def place_ship():\u001b[0m\n\u001b[1;37m                     ^\u001b[0m\n\u001b[1;31mSyntaxError\u001b[0m\u001b[1;31m:\u001b[0m incomplete input\n"
     ]
    }
   ],
   "source": [
    "def place_ship():\n",
    "    for "
   ]
  },
  {
   "cell_type": "code",
   "execution_count": null,
   "id": "5878bea8-d1d5-43f1-8af0-bea4a447448c",
   "metadata": {},
   "outputs": [],
   "source": []
  },
  {
   "cell_type": "code",
   "execution_count": null,
   "id": "37e95615-75b1-488f-925e-141ea64a0dca",
   "metadata": {},
   "outputs": [],
   "source": []
  },
  {
   "cell_type": "code",
   "execution_count": 357,
   "id": "960c2d41-1b75-4461-aa3b-135139f635a4",
   "metadata": {},
   "outputs": [],
   "source": [
    "def place_boats(home_map, ship, position):\n",
    "    home_map[position:] = ship"
   ]
  },
  {
   "cell_type": "code",
   "execution_count": 361,
   "id": "d8986c3e-3f61-4b81-acc8-cbffdd3d0cb7",
   "metadata": {},
   "outputs": [
    {
     "ename": "TypeError",
     "evalue": "display_home_grid() missing 1 required positional argument: 'home_map'",
     "output_type": "error",
     "traceback": [
      "\u001b[1;31m---------------------------------------------------------------------------\u001b[0m",
      "\u001b[1;31mTypeError\u001b[0m                                 Traceback (most recent call last)",
      "Cell \u001b[1;32mIn[361], line 2\u001b[0m\n\u001b[0;32m      1\u001b[0m place_boats(home_map, \u001b[38;5;124m\"\u001b[39m\u001b[38;5;124m \u001b[39m\u001b[38;5;124m\"\u001b[39m, \u001b[38;5;241m5\u001b[39m)\n\u001b[1;32m----> 2\u001b[0m display_home_grid()\n",
      "\u001b[1;31mTypeError\u001b[0m: display_home_grid() missing 1 required positional argument: 'home_map'"
     ]
    }
   ],
   "source": [
    "place_boats(home_map,  "
   ]
  },
  {
   "cell_type": "code",
   "execution_count": null,
   "id": "b0115795-0e2d-42fa-b6f8-358084341554",
   "metadata": {},
   "outputs": [],
   "source": []
  },
  {
   "cell_type": "code",
   "execution_count": null,
   "id": "f0466515-04ef-49f0-b748-35435922b74a",
   "metadata": {},
   "outputs": [],
   "source": []
  },
  {
   "cell_type": "code",
   "execution_count": null,
   "id": "94ec6030-b8a8-4039-9858-1e32d52c6eeb",
>>>>>>> upstream/main
   "metadata": {},
   "outputs": [],
   "source": []
  }
 ],
 "metadata": {
  "kernelspec": {
   "display_name": "Python 3 (ipykernel)",
   "language": "python",
   "name": "python3"
  },
  "language_info": {
   "codemirror_mode": {
    "name": "ipython",
    "version": 3
   },
   "file_extension": ".py",
   "mimetype": "text/x-python",
   "name": "python",
   "nbconvert_exporter": "python",
   "pygments_lexer": "ipython3",
   "version": "3.12.4"
  }
 },
 "nbformat": 4,
 "nbformat_minor": 5
}
