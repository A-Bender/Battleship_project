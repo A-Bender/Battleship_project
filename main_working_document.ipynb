{
 "cells": [
  {
   "cell_type": "markdown",
   "id": "53667ad3-95dc-4a00-9733-be5be7f4d9aa",
   "metadata": {},
   "source": [
    "hujhgytgvbukj,fbnujkl"
   ]
  },
  {
   "cell_type": "code",
   "execution_count": 1,
   "id": "6c184e3f-fe30-4c44-a7cc-27004a94b801",
   "metadata": {},
   "outputs": [
    {
     "name": "stdout",
     "output_type": "stream",
     "text": [
      "hello\n"
     ]
    }
   ],
   "source": [
    "print('hello')"
   ]
  },
  {
   "cell_type": "code",
   "execution_count": 1,
   "id": "03319838-8e23-4a7a-b2b4-602159891c2d",
   "metadata": {},
   "outputs": [
    {
     "name": "stdout",
     "output_type": "stream",
     "text": [
      "Let me have a try on the update of Github!\n"
     ]
    }
   ],
   "source": [
    "print(\"Let me have a try on the update of Github!\")"
   ]
  },
  {
   "cell_type": "code",
   "execution_count": null,
   "id": "9ca9db3f-cc8d-47bc-89a8-6dcf6b6db3aa",
   "metadata": {},
   "outputs": [],
   "source": []
  }
 ],
 "metadata": {
  "kernelspec": {
   "display_name": "Python 3 (ipykernel)",
   "language": "python",
   "name": "python3"
  },
  "language_info": {
   "codemirror_mode": {
    "name": "ipython",
    "version": 3
   },
   "file_extension": ".py",
   "mimetype": "text/x-python",
   "name": "python",
   "nbconvert_exporter": "python",
   "pygments_lexer": "ipython3",
   "version": "3.12.4"
  }
 },
 "nbformat": 4,
 "nbformat_minor": 5
}
